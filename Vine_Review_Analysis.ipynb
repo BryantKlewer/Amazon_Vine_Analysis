{
  "cells": [
    {
      "cell_type": "code",
      "execution_count": 1,
      "metadata": {
        "colab": {
          "base_uri": "https://localhost:8080/"
        },
        "id": "V58rxea0HqSa",
        "outputId": "69daf2e4-3ccb-4870-993b-5592dde85417"
      },
      "outputs": [
        {
          "name": "stdout",
          "output_type": "stream",
          "text": [
            "\r0% [Working]\r            \rIgn:1 https://developer.download.nvidia.com/compute/machine-learning/repos/ubuntu1804/x86_64  InRelease\n",
            "\r0% [Connecting to archive.ubuntu.com] [Connecting to security.ubuntu.com (91.18\r                                                                               \rHit:2 https://developer.download.nvidia.com/compute/cuda/repos/ubuntu1804/x86_64  InRelease\n",
            "\r0% [Connecting to archive.ubuntu.com] [Connecting to security.ubuntu.com (91.18\r                                                                               \rGet:3 https://cloud.r-project.org/bin/linux/ubuntu bionic-cran40/ InRelease [3,626 B]\n",
            "Hit:4 https://developer.download.nvidia.com/compute/machine-learning/repos/ubuntu1804/x86_64  Release\n",
            "Get:5 http://security.ubuntu.com/ubuntu bionic-security InRelease [88.7 kB]\n",
            "Hit:6 http://archive.ubuntu.com/ubuntu bionic InRelease\n",
            "Get:7 http://archive.ubuntu.com/ubuntu bionic-updates InRelease [88.7 kB]\n",
            "Get:8 http://ppa.launchpad.net/c2d4u.team/c2d4u4.0+/ubuntu bionic InRelease [15.9 kB]\n",
            "Get:9 http://archive.ubuntu.com/ubuntu bionic-backports InRelease [74.6 kB]\n",
            "Get:10 https://cloud.r-project.org/bin/linux/ubuntu bionic-cran40/ Packages [91.7 kB]\n",
            "Hit:11 http://ppa.launchpad.net/cran/libgit2/ubuntu bionic InRelease\n",
            "Get:12 http://ppa.launchpad.net/deadsnakes/ppa/ubuntu bionic InRelease [15.9 kB]\n",
            "Hit:14 http://ppa.launchpad.net/graphics-drivers/ppa/ubuntu bionic InRelease\n",
            "Get:15 http://security.ubuntu.com/ubuntu bionic-security/universe amd64 Packages [1,540 kB]\n",
            "Get:16 http://security.ubuntu.com/ubuntu bionic-security/main amd64 Packages [2,965 kB]\n",
            "Get:17 http://ppa.launchpad.net/c2d4u.team/c2d4u4.0+/ubuntu bionic/main Sources [2,102 kB]\n",
            "Get:18 http://security.ubuntu.com/ubuntu bionic-security/restricted amd64 Packages [1,131 kB]\n",
            "Get:19 http://archive.ubuntu.com/ubuntu bionic-updates/restricted amd64 Packages [1,172 kB]\n",
            "Get:20 http://archive.ubuntu.com/ubuntu bionic-updates/main amd64 Packages [3,396 kB]\n",
            "Get:21 http://ppa.launchpad.net/c2d4u.team/c2d4u4.0+/ubuntu bionic/main amd64 Packages [1,077 kB]\n",
            "Get:22 http://ppa.launchpad.net/deadsnakes/ppa/ubuntu bionic/main amd64 Packages [45.2 kB]\n",
            "Fetched 13.8 MB in 5s (2,792 kB/s)\n",
            "Reading package lists... Done\n"
          ]
        }
      ],
      "source": [
        "import os\n",
        "# Find the latest version of spark 3.0 from http://www.apache.org/dist/spark/ and enter as the spark version\n",
        "# For example:\n",
        "# spark_version = 'spark-3.0.3'\n",
        "spark_version = 'spark-3.2.2'\n",
        "os.environ['SPARK_VERSION']=spark_version\n",
        "\n",
        "# Install Spark and Java\n",
        "!apt-get update\n",
        "!apt-get install openjdk-11-jdk-headless -qq > /dev/null\n",
        "!wget -q http://www.apache.org/dist/spark/$SPARK_VERSION/$SPARK_VERSION-bin-hadoop2.7.tgz\n",
        "!tar xf $SPARK_VERSION-bin-hadoop2.7.tgz\n",
        "!pip install -q findspark\n",
        "\n",
        "# Set Environment Variables\n",
        "import os\n",
        "os.environ[\"JAVA_HOME\"] = \"/usr/lib/jvm/java-11-openjdk-amd64\"\n",
        "os.environ[\"SPARK_HOME\"] = f\"/content/{spark_version}-bin-hadoop2.7\"\n",
        "\n",
        "# Start a SparkSession\n",
        "import findspark\n",
        "findspark.init()"
      ]
    },
    {
      "cell_type": "code",
      "execution_count": 2,
      "metadata": {
        "colab": {
          "base_uri": "https://localhost:8080/"
        },
        "id": "f3VmVcSN4RgZ",
        "outputId": "a9df73c6-de6a-4033-df88-dda6ca0519d8"
      },
      "outputs": [
        {
          "name": "stdout",
          "output_type": "stream",
          "text": [
            "--2022-09-10 19:38:31--  https://jdbc.postgresql.org/download/postgresql-42.2.16.jar\n",
            "Resolving jdbc.postgresql.org (jdbc.postgresql.org)... 72.32.157.228, 2001:4800:3e1:1::228\n",
            "Connecting to jdbc.postgresql.org (jdbc.postgresql.org)|72.32.157.228|:443... connected.\n",
            "HTTP request sent, awaiting response... 200 OK\n",
            "Length: 1002883 (979K) [application/java-archive]\n",
            "Saving to: ‘postgresql-42.2.16.jar’\n",
            "\n",
            "postgresql-42.2.16. 100%[===================>] 979.38K  6.00MB/s    in 0.2s    \n",
            "\n",
            "2022-09-10 19:38:32 (6.00 MB/s) - ‘postgresql-42.2.16.jar’ saved [1002883/1002883]\n",
            "\n"
          ]
        }
      ],
      "source": [
        "# Download the Postgres driver that will allow Spark to interact with Postgres.\n",
        "!wget https://jdbc.postgresql.org/download/postgresql-42.2.16.jar"
      ]
    },
    {
      "cell_type": "code",
      "execution_count": 3,
      "metadata": {
        "id": "oR3DS3CP4Ri4"
      },
      "outputs": [],
      "source": [
        "from pyspark.sql import SparkSession\n",
        "spark = SparkSession.builder.appName(\"Vine_Review_Analysis\").config(\"spark.driver.extraClassPath\",\"/content/postgresql-42.2.16.jar\").getOrCreate()"
      ]
    },
    {
      "cell_type": "code",
      "execution_count": 4,
      "metadata": {
        "colab": {
          "base_uri": "https://localhost:8080/"
        },
        "id": "FJvTKhVM4Rn8",
        "outputId": "c4f64b6e-9b38-4958-e348-6551d27d8f5e"
      },
      "outputs": [
        {
          "name": "stdout",
          "output_type": "stream",
          "text": [
            "+-----------+-----------+--------------+----------+--------------+--------------------+----------------+-----------+-------------+-----------+----+-----------------+--------------------+--------------------+-----------+\n",
            "|marketplace|customer_id|     review_id|product_id|product_parent|       product_title|product_category|star_rating|helpful_votes|total_votes|vine|verified_purchase|     review_headline|         review_body|review_date|\n",
            "+-----------+-----------+--------------+----------+--------------+--------------------+----------------+-----------+-------------+-----------+----+-----------------+--------------------+--------------------+-----------+\n",
            "|         US|   36075342| RAB23OVFNCXZQ|B00LPRXQ4Y|     339193102|17\" 2003-2006 For...|      Automotive|          1|            0|          0|   N|                Y|     As it was used,|As it was used, t...| 2015-08-31|\n",
            "|         US|   42462164|R3NORADVJO6IE6|B000C7S0TO|     907684644|Spectra Premium C...|      Automotive|          5|            0|          0|   N|                Y|          Five Stars|Put it in fine, n...| 2015-08-31|\n",
            "|         US|   21241933|R299F4SO98S5OO|B000CO9WE4|     752246352|K&N E-4665 High P...|      Automotive|          5|            1|          1|   N|                Y|Great fit and per...|Fit wonderfully o...| 2015-08-31|\n",
            "|         US|   52570308|R2DA9DOT03UW6I|B000GKD5NI|     105401756|Suncutters Rear W...|      Automotive|          5|            2|          3|   N|                Y|Good for the pric...|Good for the pric...| 2015-08-31|\n",
            "|         US|   38200102|R2OGCH681EQHU6|B009SDA7TE|     728471129|Lug Nuts Landcrui...|      Automotive|          5|            0|          0|   N|                Y|          Five Stars|Fit perfectly on ...| 2015-08-31|\n",
            "|         US|   34866169| R2JMKIC16MHD7|B00KV15KRG|     962286893|Fits 2007-2009 Ho...|      Automotive|          5|            2|          2|   N|                Y|Fit Well and Bett...|Product fits well...| 2015-08-31|\n",
            "|         US|     184627|R1DB5DA7CWWTI8|B0002JMAKW|     267002949|Castrol 12614 Dot...|      Automotive|          5|            0|          0|   N|                Y|convenient, fast ...|convenient ,fast ...| 2015-08-31|\n",
            "|         US|    2975964|R1N8XWFDK4QACP|B00XJKMM6S|     570789093|New Power Window ...|      Automotive|          5|            0|          0|   N|                Y|          Five Stars|             is good| 2015-08-31|\n",
            "|         US|   40946484|R19VFLX6MRU0CX|B000C5CEKC|     389524802|Motorad MGC-791 L...|      Automotive|          5|            0|          0|   N|                Y|GOOD deal.  Great...|wonderful.  if yo...| 2015-08-31|\n",
            "|         US|   12554469| RLTD8YDGTP9PT|B00GD9R2A8|      21425394|Genuine Ford AL3Z...|      Automotive|          1|            0|          0|   N|                Y|Does not fit my F...|Does not work wit...| 2015-08-31|\n",
            "|         US|   35335277| R78B5LCFJ52SR|B00RM327NG|     816815445|Air Vent Smartpho...|      Automotive|          4|            0|          0|   N|                Y|            Not bad!|I really loved th...| 2015-08-31|\n",
            "|         US|   44957003|R33SKWL0HEQIQ9|B0071NL7UQ|     192225755|FDJ New Replaceme...|      Automotive|          5|            0|          0|   N|                Y|          Five Stars| Just what I wanted.| 2015-08-31|\n",
            "|         US|     444125|R1HIOV0UX7P13D|B00DSOL0FY|     849414056|Omix-Ada 17402.09...|      Automotive|          5|            0|          0|   N|                Y|          Five Stars|Great product and...| 2015-08-31|\n",
            "|         US|   35829199| R4WS0E0MSP9DH|B00GRV48TK|     651316983|GMB 530-2480 Fuel...|      Automotive|          5|            2|          2|   N|                Y|           Well made|Appears to be wel...| 2015-08-31|\n",
            "|         US|   16825098| R2RUIDUMDKG7P|B000E4PCGE|     694793259|00-03 NISSAN SENT...|      Automotive|          3|            0|          0|   N|                Y|new and a great l...|Product was as de...| 2015-08-31|\n",
            "|         US|    2583392| RZSA6L4M4D4XA|B005Z8HAUK|     732072782|Slime 40026 2X He...|      Automotive|          5|            0|          0|   N|                Y|          Five Stars|SO much quieter t...| 2015-08-31|\n",
            "|         US|   10127903|R1O3NGQNCFXKR6|B0043AV4NK|     533179941|MegaBrand N1 4\" B...|      Automotive|          5|            0|          0|   N|                Y|              decent|Great for the pri...| 2015-08-31|\n",
            "|         US|   17937309|R2IEM66RCBJ95A|B00CDHD76C|     126169507|Jackly 45-in-One ...|      Automotive|          5|            0|          0|   N|                Y|Nice set of tools...|Nice set of tools...| 2015-08-31|\n",
            "|         US|   17145638|R2BQ9O517KSCP8|B000CF1XO0|     475232737|Bosch 3397118942 ...|      Automotive|          5|            0|          0|   N|                N|          Five Stars|       Everything ok| 2015-08-31|\n",
            "|         US|   32813839|R1KF86427VR7AC|B003VLBPJA|     897802619|Heavy-Duty 15\" Ca...|      Automotive|          3|            0|          0|   N|                Y|         Three Stars|I hope the hooks ...| 2015-08-31|\n",
            "+-----------+-----------+--------------+----------+--------------+--------------------+----------------+-----------+-------------+-----------+----+-----------------+--------------------+--------------------+-----------+\n",
            "only showing top 20 rows\n",
            "\n"
          ]
        }
      ],
      "source": [
        "from pyspark import SparkFiles\n",
        "url = \"https://s3.amazonaws.com/amazon-reviews-pds/tsv/amazon_reviews_us_Automotive_v1_00.tsv.gz\"\n",
        "spark.sparkContext.addFile(url)\n",
        "df = spark.read.option(\"encoding\", \"UTF-8\").csv(SparkFiles.get(\"amazon_reviews_us_Automotive_v1_00.tsv.gz\"), sep=\"\\t\", header=True, inferSchema=True)\n",
        "df.show()"
      ]
    },
    {
      "cell_type": "code",
      "execution_count": 5,
      "metadata": {
        "colab": {
          "base_uri": "https://localhost:8080/"
        },
        "id": "Ctk-auH34Rqc",
        "outputId": "f158f6ba-8529-4276-b399-6f36d934826f"
      },
      "outputs": [
        {
          "name": "stdout",
          "output_type": "stream",
          "text": [
            "+--------------+-----------+-------------+-----------+----+-----------------+\n",
            "|     review_id|star_rating|helpful_votes|total_votes|vine|verified_purchase|\n",
            "+--------------+-----------+-------------+-----------+----+-----------------+\n",
            "| RAB23OVFNCXZQ|          1|            0|          0|   N|                Y|\n",
            "|R3NORADVJO6IE6|          5|            0|          0|   N|                Y|\n",
            "|R299F4SO98S5OO|          5|            1|          1|   N|                Y|\n",
            "|R2DA9DOT03UW6I|          5|            2|          3|   N|                Y|\n",
            "|R2OGCH681EQHU6|          5|            0|          0|   N|                Y|\n",
            "| R2JMKIC16MHD7|          5|            2|          2|   N|                Y|\n",
            "|R1DB5DA7CWWTI8|          5|            0|          0|   N|                Y|\n",
            "|R1N8XWFDK4QACP|          5|            0|          0|   N|                Y|\n",
            "|R19VFLX6MRU0CX|          5|            0|          0|   N|                Y|\n",
            "| RLTD8YDGTP9PT|          1|            0|          0|   N|                Y|\n",
            "| R78B5LCFJ52SR|          4|            0|          0|   N|                Y|\n",
            "|R33SKWL0HEQIQ9|          5|            0|          0|   N|                Y|\n",
            "|R1HIOV0UX7P13D|          5|            0|          0|   N|                Y|\n",
            "| R4WS0E0MSP9DH|          5|            2|          2|   N|                Y|\n",
            "| R2RUIDUMDKG7P|          3|            0|          0|   N|                Y|\n",
            "| RZSA6L4M4D4XA|          5|            0|          0|   N|                Y|\n",
            "|R1O3NGQNCFXKR6|          5|            0|          0|   N|                Y|\n",
            "|R2IEM66RCBJ95A|          5|            0|          0|   N|                Y|\n",
            "|R2BQ9O517KSCP8|          5|            0|          0|   N|                N|\n",
            "|R1KF86427VR7AC|          3|            0|          0|   N|                Y|\n",
            "+--------------+-----------+-------------+-----------+----+-----------------+\n",
            "only showing top 20 rows\n",
            "\n"
          ]
        }
      ],
      "source": [
        "# Re-create the vine_table. DataFrame\n",
        "vine_df = df.select([\"review_id\", \"star_rating\", \"helpful_votes\", \"total_votes\", \"vine\", \"verified_purchase\"])\n",
        "vine_df.show()"
      ]
    },
    {
      "cell_type": "code",
      "execution_count": 6,
      "metadata": {
        "colab": {
          "base_uri": "https://localhost:8080/"
        },
        "id": "ecK7x_QR4R6v",
        "outputId": "ee11d159-698b-42a9-e801-5e65b3042cb6"
      },
      "outputs": [
        {
          "name": "stdout",
          "output_type": "stream",
          "text": [
            "+--------------+-----------+-------------+-----------+----+-----------------+\n",
            "|     review_id|star_rating|helpful_votes|total_votes|vine|verified_purchase|\n",
            "+--------------+-----------+-------------+-----------+----+-----------------+\n",
            "|R1T4FVSABO0IDP|          5|            8|         31|   N|                Y|\n",
            "|R397VXR1GAK6C9|          5|           21|         21|   N|                Y|\n",
            "|R2H6KB9RHS17GA|          3|           59|         69|   N|                Y|\n",
            "|R3HAK0MUN9F5IT|          1|            6|         28|   N|                Y|\n",
            "|R29UTZTOPUVRSV|          5|           21|         21|   N|                Y|\n",
            "| RY9FLUD8VG6XD|          4|           27|         32|   N|                Y|\n",
            "|R3Q5NAY8BGAKHI|          5|           34|         40|   N|                Y|\n",
            "| RRVJ7TYDEK7EO|          5|           30|         30|   N|                Y|\n",
            "|R2S4CHISQA2WDH|          5|           17|         20|   N|                Y|\n",
            "|R1JNALJ77OULPH|          4|           57|         65|   N|                Y|\n",
            "|R13YNG792BCR77|          5|           19|         20|   N|                Y|\n",
            "|R1RYG8MVOPK4Q2|          5|           18|         20|   N|                Y|\n",
            "|R2V9VX4YQ8TQ24|          5|           33|         36|   N|                Y|\n",
            "|R2UCJ0GANHZVA8|          5|           21|         21|   N|                Y|\n",
            "| R8MJZ3925MBK0|          5|           96|         98|   N|                Y|\n",
            "|R378YNR0LMM3DP|          2|           41|         47|   N|                Y|\n",
            "|R2UIEYEJPJC9EM|          5|           64|         70|   N|                N|\n",
            "| RX2K8ERZ5BENR|          5|           52|         56|   N|                Y|\n",
            "|R34VOML4JURU4E|          1|           34|         35|   N|                Y|\n",
            "|R21FPJN76XM6J8|          3|           43|         52|   N|                Y|\n",
            "+--------------+-----------+-------------+-----------+----+-----------------+\n",
            "only showing top 20 rows\n",
            "\n"
          ]
        }
      ],
      "source": [
        "# Filter vine_df for results with >= 20 votes\n",
        "votes_df = vine_df.filter(vine_df.total_votes >= 20)\n",
        "votes_df.show()"
      ]
    },
    {
      "cell_type": "code",
      "execution_count": 7,
      "metadata": {
        "colab": {
          "base_uri": "https://localhost:8080/"
        },
        "id": "rDMn9Uez5NpD",
        "outputId": "b28e7d5b-5c55-43aa-b941-1ad5328530f4"
      },
      "outputs": [
        {
          "name": "stdout",
          "output_type": "stream",
          "text": [
            "+--------------+-----------+-------------+-----------+----+-----------------+\n",
            "|     review_id|star_rating|helpful_votes|total_votes|vine|verified_purchase|\n",
            "+--------------+-----------+-------------+-----------+----+-----------------+\n",
            "|R397VXR1GAK6C9|          5|           21|         21|   N|                Y|\n",
            "|R2H6KB9RHS17GA|          3|           59|         69|   N|                Y|\n",
            "|R29UTZTOPUVRSV|          5|           21|         21|   N|                Y|\n",
            "| RY9FLUD8VG6XD|          4|           27|         32|   N|                Y|\n",
            "|R3Q5NAY8BGAKHI|          5|           34|         40|   N|                Y|\n",
            "| RRVJ7TYDEK7EO|          5|           30|         30|   N|                Y|\n",
            "|R2S4CHISQA2WDH|          5|           17|         20|   N|                Y|\n",
            "|R1JNALJ77OULPH|          4|           57|         65|   N|                Y|\n",
            "|R13YNG792BCR77|          5|           19|         20|   N|                Y|\n",
            "|R1RYG8MVOPK4Q2|          5|           18|         20|   N|                Y|\n",
            "|R2V9VX4YQ8TQ24|          5|           33|         36|   N|                Y|\n",
            "|R2UCJ0GANHZVA8|          5|           21|         21|   N|                Y|\n",
            "| R8MJZ3925MBK0|          5|           96|         98|   N|                Y|\n",
            "|R378YNR0LMM3DP|          2|           41|         47|   N|                Y|\n",
            "|R2UIEYEJPJC9EM|          5|           64|         70|   N|                N|\n",
            "| RX2K8ERZ5BENR|          5|           52|         56|   N|                Y|\n",
            "|R34VOML4JURU4E|          1|           34|         35|   N|                Y|\n",
            "|R21FPJN76XM6J8|          3|           43|         52|   N|                Y|\n",
            "|R1YMR7QJ7OR3DE|          1|           21|         22|   N|                Y|\n",
            "|R104OMNNT1A7HJ|          5|           20|         24|   N|                Y|\n",
            "+--------------+-----------+-------------+-----------+----+-----------------+\n",
            "only showing top 20 rows\n",
            "\n"
          ]
        }
      ],
      "source": [
        "# Filter votes_df for % of helpful votes >= to 50%\n",
        "helpful_df = votes_df.filter(votes_df.helpful_votes/votes_df.total_votes >= 0.5)\n",
        "helpful_df.show()"
      ]
    },
    {
      "cell_type": "code",
      "execution_count": 8,
      "metadata": {
        "colab": {
          "base_uri": "https://localhost:8080/"
        },
        "id": "k6XnmCvL5NuW",
        "outputId": "fe0369e2-e9c8-45ee-8950-8357df238f1a"
      },
      "outputs": [
        {
          "name": "stdout",
          "output_type": "stream",
          "text": [
            "+--------------+-----------+-------------+-----------+----+-----------------+\n",
            "|     review_id|star_rating|helpful_votes|total_votes|vine|verified_purchase|\n",
            "+--------------+-----------+-------------+-----------+----+-----------------+\n",
            "| REKN4PLM5174P|          4|          219|        225|   Y|                N|\n",
            "| RQOG8IIJX7CKB|          4|           21|         27|   Y|                N|\n",
            "|R33EJ9PSZR13CM|          4|           26|         30|   Y|                N|\n",
            "| RD2BFV896F321|          5|           16|         20|   Y|                N|\n",
            "|R37GSXLA11XF8N|          5|           30|         34|   Y|                N|\n",
            "| RQBQYBM9VMSH4|          5|           19|         20|   Y|                N|\n",
            "|R2YE4F9ESKFWEK|          3|           20|         23|   Y|                N|\n",
            "|R1E4L7HHB8TBP9|          4|           80|         92|   Y|                N|\n",
            "|R2C2WXDXMZL005|          2|           20|         25|   Y|                N|\n",
            "|R1PPY4U0K03KTE|          5|           31|         38|   Y|                N|\n",
            "|R12SMR88Q45MWQ|          3|           23|         24|   Y|                N|\n",
            "|R188VWFDBDWRR0|          4|           35|         38|   Y|                N|\n",
            "| RUE8J5M74KJUP|          1|           37|         42|   Y|                N|\n",
            "|R3IMZIN7Y64IP1|          1|           19|         23|   Y|                N|\n",
            "|R17RGR2YSZ5UDG|          4|           19|         24|   Y|                N|\n",
            "|R2SBNSIBLPIIG6|          4|           47|         53|   Y|                N|\n",
            "|R197MLUGNBO8SK|          5|           24|         29|   Y|                N|\n",
            "|R21QBM40D91D00|          3|           18|         25|   Y|                N|\n",
            "|R1Z5U87WQ4LVJG|          4|           89|        101|   Y|                N|\n",
            "| RAT9CVRLRHXQZ|          5|           50|         54|   Y|                N|\n",
            "+--------------+-----------+-------------+-----------+----+-----------------+\n",
            "only showing top 20 rows\n",
            "\n"
          ]
        }
      ],
      "source": [
        "# Filter helpful_df for reviews written as part of the vine program\n",
        "vine_review_df = helpful_df.filter(helpful_df.vine == 'Y')\n",
        "vine_review_df.show()"
      ]
    },
    {
      "cell_type": "code",
      "execution_count": 9,
      "metadata": {
        "colab": {
          "base_uri": "https://localhost:8080/"
        },
        "id": "igezxO9E4R9P",
        "outputId": "2094b61e-bac6-4ef7-dcbe-986fe23531bd"
      },
      "outputs": [
        {
          "name": "stdout",
          "output_type": "stream",
          "text": [
            "+--------------+-----------+-------------+-----------+----+-----------------+\n",
            "|     review_id|star_rating|helpful_votes|total_votes|vine|verified_purchase|\n",
            "+--------------+-----------+-------------+-----------+----+-----------------+\n",
            "|R397VXR1GAK6C9|          5|           21|         21|   N|                Y|\n",
            "|R2H6KB9RHS17GA|          3|           59|         69|   N|                Y|\n",
            "|R29UTZTOPUVRSV|          5|           21|         21|   N|                Y|\n",
            "| RY9FLUD8VG6XD|          4|           27|         32|   N|                Y|\n",
            "|R3Q5NAY8BGAKHI|          5|           34|         40|   N|                Y|\n",
            "| RRVJ7TYDEK7EO|          5|           30|         30|   N|                Y|\n",
            "|R2S4CHISQA2WDH|          5|           17|         20|   N|                Y|\n",
            "|R1JNALJ77OULPH|          4|           57|         65|   N|                Y|\n",
            "|R13YNG792BCR77|          5|           19|         20|   N|                Y|\n",
            "|R1RYG8MVOPK4Q2|          5|           18|         20|   N|                Y|\n",
            "|R2V9VX4YQ8TQ24|          5|           33|         36|   N|                Y|\n",
            "|R2UCJ0GANHZVA8|          5|           21|         21|   N|                Y|\n",
            "| R8MJZ3925MBK0|          5|           96|         98|   N|                Y|\n",
            "|R378YNR0LMM3DP|          2|           41|         47|   N|                Y|\n",
            "|R2UIEYEJPJC9EM|          5|           64|         70|   N|                N|\n",
            "| RX2K8ERZ5BENR|          5|           52|         56|   N|                Y|\n",
            "|R34VOML4JURU4E|          1|           34|         35|   N|                Y|\n",
            "|R21FPJN76XM6J8|          3|           43|         52|   N|                Y|\n",
            "|R1YMR7QJ7OR3DE|          1|           21|         22|   N|                Y|\n",
            "|R104OMNNT1A7HJ|          5|           20|         24|   N|                Y|\n",
            "+--------------+-----------+-------------+-----------+----+-----------------+\n",
            "only showing top 20 rows\n",
            "\n"
          ]
        }
      ],
      "source": [
        "# Filter helpful_df for reviews written that were not part of vine program\n",
        "non_vine_df = helpful_df.filter(helpful_df.vine == 'N')\n",
        "non_vine_df.show()"
      ]
    },
    {
      "cell_type": "code",
      "execution_count": 10,
      "metadata": {
        "colab": {
          "base_uri": "https://localhost:8080/"
        },
        "id": "iw4PjAuf9j_e",
        "outputId": "ed79e588-2f65-4508-97ed-d6b28c49af1b"
      },
      "outputs": [
        {
          "data": {
            "text/plain": [
              "3514942"
            ]
          },
          "execution_count": 10,
          "metadata": {},
          "output_type": "execute_result"
        }
      ],
      "source": [
        "# Determine total # of reviews\n",
        "total_reviews = vine_df.count()\n",
        "total_reviews"
      ]
    },
    {
      "cell_type": "code",
      "execution_count": 12,
      "metadata": {
        "colab": {
          "base_uri": "https://localhost:8080/"
        },
        "id": "HO8L1etuAkNi",
        "outputId": "6075ab00-0aa6-4caa-c051-fe6881eebb8c"
      },
      "outputs": [
        {
          "data": {
            "text/plain": [
              "5925"
            ]
          },
          "execution_count": 12,
          "metadata": {},
          "output_type": "execute_result"
        }
      ],
      "source": [
        "# Determine the total # of vine reviews\n",
        "total_vine_reviews = vine_df.filter(vine_df.vine == 'Y').count()\n",
        "total_vine_reviews"
      ]
    },
    {
      "cell_type": "code",
      "execution_count": 13,
      "metadata": {
        "colab": {
          "base_uri": "https://localhost:8080/"
        },
        "id": "ETCt2zxEApd8",
        "outputId": "88821aa6-6024-49b7-8b51-f4974b624a1e"
      },
      "outputs": [
        {
          "data": {
            "text/plain": [
              "3508784"
            ]
          },
          "execution_count": 13,
          "metadata": {},
          "output_type": "execute_result"
        }
      ],
      "source": [
        "# Determine the total # of non-vine reviews\n",
        "total_non_vine_reviews = vine_df.filter(vine_df.vine == 'N').count()\n",
        "total_non_vine_reviews"
      ]
    },
    {
      "cell_type": "code",
      "execution_count": 14,
      "metadata": {
        "colab": {
          "base_uri": "https://localhost:8080/"
        },
        "id": "tAF7TjIm_dMD",
        "outputId": "4059737a-814a-473c-e5d0-e867fef83c59"
      },
      "outputs": [
        {
          "data": {
            "text/plain": [
              "2300587"
            ]
          },
          "execution_count": 14,
          "metadata": {},
          "output_type": "execute_result"
        }
      ],
      "source": [
        "# Determine the # of 5 star reviews\n",
        "total_5star_reviews = vine_df.filter(vine_df.star_rating == 5).count()\n",
        "total_5star_reviews"
      ]
    },
    {
      "cell_type": "code",
      "execution_count": 23,
      "metadata": {
        "colab": {
          "base_uri": "https://localhost:8080/"
        },
        "id": "w3z2tl7KA00s",
        "outputId": "3fb99529-8657-4c86-fe9c-0d7026741760"
      },
      "outputs": [
        {
          "data": {
            "text/plain": [
              "2743"
            ]
          },
          "execution_count": 23,
          "metadata": {},
          "output_type": "execute_result"
        }
      ],
      "source": [
        "# Determine the # of vine 5 star reviews\n",
        "vine_5star_reviews = vine_df.filter((vine_df.vine == 'Y') & (vine_df.star_rating == 5)).count()\n",
        "vine_5star_reviews"
      ]
    },
    {
      "cell_type": "code",
      "execution_count": 24,
      "metadata": {
        "colab": {
          "base_uri": "https://localhost:8080/"
        },
        "id": "ItgSo6GHA1Kn",
        "outputId": "1838faaf-3de2-4d5a-f861-1fa7e4b3f3b2"
      },
      "outputs": [
        {
          "data": {
            "text/plain": [
              "2297844"
            ]
          },
          "execution_count": 24,
          "metadata": {},
          "output_type": "execute_result"
        }
      ],
      "source": [
        "# Determine the # of 5 star non-vine reviews\n",
        "non_vine_5star_reviews = vine_df.filter((vine_df.vine == 'N') & (vine_df.star_rating == 5)).count()\n",
        "non_vine_5star_reviews"
      ]
    },
    {
      "cell_type": "code",
      "execution_count": 25,
      "metadata": {
        "colab": {
          "base_uri": "https://localhost:8080/"
        },
        "id": "LbJzKX2W_klv",
        "outputId": "b0777524-4060-4307-f701-b955826d7ae0"
      },
      "outputs": [
        {
          "data": {
            "text/plain": [
              "46.29535864978903"
            ]
          },
          "execution_count": 25,
          "metadata": {},
          "output_type": "execute_result"
        }
      ],
      "source": [
        "# Determine the % of 5 star reviews for vine program reviews\n",
        "vine_5star_percent = (vine_5star_reviews / total_vine_reviews) * 100\n",
        "vine_5star_percent"
      ]
    },
    {
      "cell_type": "code",
      "execution_count": 26,
      "metadata": {
        "colab": {
          "base_uri": "https://localhost:8080/"
        },
        "id": "iA8rW4nl_siq",
        "outputId": "3163f1d5-81a5-4fc0-b2c7-04c35c40d657"
      },
      "outputs": [
        {
          "data": {
            "text/plain": [
              "65.4883287201492"
            ]
          },
          "execution_count": 26,
          "metadata": {},
          "output_type": "execute_result"
        }
      ],
      "source": [
        "# Determine the % of 5 star reviews for non-vine program reviews\n",
        "non_vine_5star_percent = (non_vine_5star_reviews / total_non_vine_reviews) * 100\n",
        "non_vine_5star_percent"
      ]
    }
  ],
  "metadata": {
    "colab": {
      "provenance": []
    },
    "kernelspec": {
      "display_name": "Python 3",
      "name": "python3"
    },
    "language_info": {
      "name": "python"
    }
  },
  "nbformat": 4,
  "nbformat_minor": 0
}
